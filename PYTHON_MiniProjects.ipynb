{
  "nbformat": 4,
  "nbformat_minor": 0,
  "metadata": {
    "colab": {
      "provenance": [],
      "authorship_tag": "ABX9TyO4aHr0XrziccitTi+qNUCz",
      "include_colab_link": true
    },
    "kernelspec": {
      "name": "python3",
      "display_name": "Python 3"
    },
    "language_info": {
      "name": "python"
    }
  },
  "cells": [
    {
      "cell_type": "markdown",
      "metadata": {
        "id": "view-in-github",
        "colab_type": "text"
      },
      "source": [
        "<a href=\"https://colab.research.google.com/github/hsargoli/_WE_/blob/main/PYTHON_MiniProjects.ipynb\" target=\"_parent\"><img src=\"https://colab.research.google.com/assets/colab-badge.svg\" alt=\"Open In Colab\"/></a>"
      ]
    },
    {
      "cell_type": "code",
      "execution_count": null,
      "metadata": {
        "colab": {
          "base_uri": "https://localhost:8080/",
          "height": 446
        },
        "id": "NMqiSiILGU71",
        "outputId": "a113cfde-77f4-449e-f907-4bd134c8852c"
      },
      "outputs": [
        {
          "output_type": "stream",
          "name": "stdout",
          "text": [
            "-------------------------------------\n",
            "Welcome to the Guess the Number Game!\n",
            "I'm thinking of a number between 0 and 100.\n",
            "You have 10 attempts to guess it.\n",
            "Enter your guess: 500\n",
            "Please guess a number between 0 and 100.\n"
          ]
        },
        {
          "output_type": "error",
          "ename": "KeyboardInterrupt",
          "evalue": "Interrupted by user",
          "traceback": [
            "\u001b[0;31m---------------------------------------------------------------------------\u001b[0m",
            "\u001b[0;31mKeyboardInterrupt\u001b[0m                         Traceback (most recent call last)",
            "\u001b[0;32m<ipython-input-48-0b4a5a52c3f2>\u001b[0m in \u001b[0;36m<cell line: 43>\u001b[0;34m()\u001b[0m\n\u001b[1;32m     41\u001b[0m     \u001b[0mprint\u001b[0m\u001b[0;34m(\u001b[0m\u001b[0;34mf\"Sorry, you've used all your attempts. The number was {secret_number}.\"\u001b[0m\u001b[0;34m)\u001b[0m\u001b[0;34m\u001b[0m\u001b[0;34m\u001b[0m\u001b[0m\n\u001b[1;32m     42\u001b[0m \u001b[0;34m\u001b[0m\u001b[0m\n\u001b[0;32m---> 43\u001b[0;31m \u001b[0mguess_the_number\u001b[0m\u001b[0;34m(\u001b[0m\u001b[0;34m)\u001b[0m\u001b[0;34m\u001b[0m\u001b[0;34m\u001b[0m\u001b[0m\n\u001b[0m",
            "\u001b[0;32m<ipython-input-48-0b4a5a52c3f2>\u001b[0m in \u001b[0;36mguess_the_number\u001b[0;34m()\u001b[0m\n\u001b[1;32m     19\u001b[0m     \u001b[0;32mwhile\u001b[0m \u001b[0mattempts\u001b[0m \u001b[0;34m<\u001b[0m \u001b[0mmax_attempts\u001b[0m\u001b[0;34m:\u001b[0m\u001b[0;34m\u001b[0m\u001b[0;34m\u001b[0m\u001b[0m\n\u001b[1;32m     20\u001b[0m         \u001b[0;32mtry\u001b[0m\u001b[0;34m:\u001b[0m\u001b[0;34m\u001b[0m\u001b[0;34m\u001b[0m\u001b[0m\n\u001b[0;32m---> 21\u001b[0;31m             \u001b[0mguess\u001b[0m \u001b[0;34m=\u001b[0m \u001b[0mint\u001b[0m\u001b[0;34m(\u001b[0m\u001b[0minput\u001b[0m\u001b[0;34m(\u001b[0m\u001b[0;34m\"Enter your guess: \"\u001b[0m\u001b[0;34m)\u001b[0m\u001b[0;34m)\u001b[0m\u001b[0;34m\u001b[0m\u001b[0;34m\u001b[0m\u001b[0m\n\u001b[0m\u001b[1;32m     22\u001b[0m             \u001b[0mattempts\u001b[0m \u001b[0;34m+=\u001b[0m \u001b[0;36m1\u001b[0m\u001b[0;34m\u001b[0m\u001b[0;34m\u001b[0m\u001b[0m\n\u001b[1;32m     23\u001b[0m \u001b[0;34m\u001b[0m\u001b[0m\n",
            "\u001b[0;32m/usr/local/lib/python3.10/dist-packages/ipykernel/kernelbase.py\u001b[0m in \u001b[0;36mraw_input\u001b[0;34m(self, prompt)\u001b[0m\n\u001b[1;32m    849\u001b[0m                 \u001b[0;34m\"raw_input was called, but this frontend does not support input requests.\"\u001b[0m\u001b[0;34m\u001b[0m\u001b[0;34m\u001b[0m\u001b[0m\n\u001b[1;32m    850\u001b[0m             )\n\u001b[0;32m--> 851\u001b[0;31m         return self._input_request(str(prompt),\n\u001b[0m\u001b[1;32m    852\u001b[0m             \u001b[0mself\u001b[0m\u001b[0;34m.\u001b[0m\u001b[0m_parent_ident\u001b[0m\u001b[0;34m,\u001b[0m\u001b[0;34m\u001b[0m\u001b[0;34m\u001b[0m\u001b[0m\n\u001b[1;32m    853\u001b[0m             \u001b[0mself\u001b[0m\u001b[0;34m.\u001b[0m\u001b[0m_parent_header\u001b[0m\u001b[0;34m,\u001b[0m\u001b[0;34m\u001b[0m\u001b[0;34m\u001b[0m\u001b[0m\n",
            "\u001b[0;32m/usr/local/lib/python3.10/dist-packages/ipykernel/kernelbase.py\u001b[0m in \u001b[0;36m_input_request\u001b[0;34m(self, prompt, ident, parent, password)\u001b[0m\n\u001b[1;32m    893\u001b[0m             \u001b[0;32mexcept\u001b[0m \u001b[0mKeyboardInterrupt\u001b[0m\u001b[0;34m:\u001b[0m\u001b[0;34m\u001b[0m\u001b[0;34m\u001b[0m\u001b[0m\n\u001b[1;32m    894\u001b[0m                 \u001b[0;31m# re-raise KeyboardInterrupt, to truncate traceback\u001b[0m\u001b[0;34m\u001b[0m\u001b[0;34m\u001b[0m\u001b[0m\n\u001b[0;32m--> 895\u001b[0;31m                 \u001b[0;32mraise\u001b[0m \u001b[0mKeyboardInterrupt\u001b[0m\u001b[0;34m(\u001b[0m\u001b[0;34m\"Interrupted by user\"\u001b[0m\u001b[0;34m)\u001b[0m \u001b[0;32mfrom\u001b[0m \u001b[0;32mNone\u001b[0m\u001b[0;34m\u001b[0m\u001b[0;34m\u001b[0m\u001b[0m\n\u001b[0m\u001b[1;32m    896\u001b[0m             \u001b[0;32mexcept\u001b[0m \u001b[0mException\u001b[0m \u001b[0;32mas\u001b[0m \u001b[0me\u001b[0m\u001b[0;34m:\u001b[0m\u001b[0;34m\u001b[0m\u001b[0;34m\u001b[0m\u001b[0m\n\u001b[1;32m    897\u001b[0m                 \u001b[0mself\u001b[0m\u001b[0;34m.\u001b[0m\u001b[0mlog\u001b[0m\u001b[0;34m.\u001b[0m\u001b[0mwarning\u001b[0m\u001b[0;34m(\u001b[0m\u001b[0;34m\"Invalid Message:\"\u001b[0m\u001b[0;34m,\u001b[0m \u001b[0mexc_info\u001b[0m\u001b[0;34m=\u001b[0m\u001b[0;32mTrue\u001b[0m\u001b[0;34m)\u001b[0m\u001b[0;34m\u001b[0m\u001b[0;34m\u001b[0m\u001b[0m\n",
            "\u001b[0;31mKeyboardInterrupt\u001b[0m: Interrupted by user"
          ]
        }
      ],
      "source": [
        "import random\n",
        "\n",
        "def guess_the_number():\n",
        "    print(\"-------------------------------------\")\n",
        "    print(\"Welcome to the Guess the Number Game!\")\n",
        "\n",
        "    # Define the range for the random number\n",
        "    lower_bound = 0\n",
        "    upper_bound = 100\n",
        "    secret_number = random.randint(lower_bound, upper_bound)\n",
        "\n",
        "    attempts = 0\n",
        "    max_attempts = 10  # You can change this to allow more or fewer attempts\n",
        "\n",
        "    print(f\"I'm thinking of a number between {lower_bound} and {upper_bound}.\")\n",
        "    print(f\"You have {max_attempts} attempts to guess it.\")\n",
        "\n",
        "\n",
        "    while attempts < max_attempts:\n",
        "        try:\n",
        "            guess = int(input(\"Enter your guess: \"))\n",
        "            attempts += 1\n",
        "\n",
        "            if guess < lower_bound or guess > upper_bound:\n",
        "                print(f\"Please guess a number between {lower_bound} and {upper_bound}.\")\n",
        "                continue\n",
        "\n",
        "            if guess < secret_number:\n",
        "                print(\"Too low! Try again.\")\n",
        "            elif guess > secret_number:\n",
        "                print(\"Too high! Try again.\")\n",
        "            else:\n",
        "                print(f\"Congratulations! You've guessed the number {secret_number} in {attempts} attempts.\")\n",
        "                return\n",
        "\n",
        "            print(f\"You have {max_attempts - attempts} attempts left.\")\n",
        "\n",
        "        except ValueError:\n",
        "            print(\"Invalid input! Please enter a valid integer.\")\n",
        "\n",
        "    print(f\"Sorry, you've used all your attempts. The number was {secret_number}.\")\n",
        "\n",
        "guess_the_number()"
      ]
    },
    {
      "cell_type": "code",
      "source": [
        "import random\n",
        "\n",
        "def guess_the_number():\n",
        "    print(\"Welcome to the Guess the Number Game!\")\n",
        "\n",
        "    # Define the range for the random number\n",
        "    lower_bound = 1\n",
        "    upper_bound = 100\n",
        "    secret_number = random.randint(lower_bound, upper_bound)\n",
        "\n",
        "    attempts = 20\n",
        "    max_attempts = 3  # You can change this to allow more or fewer attempts\n",
        "\n",
        "    print(f\"I'm thinking of a number between {lower_bound} and {upper_bound}.\")\n",
        "    print(f\"You have {max_attempts} attempts to guess it.\")\n",
        "\n",
        "    while attempts < max_attempts:\n",
        "        try:\n",
        "            guess = int(input(\"Enter your guess: \"))\n",
        "            attempts += 1\n",
        "\n",
        "            if guess < lower_bound or guess > upper_bound:\n",
        "                print(f\"Please guess a number between {lower_bound} and {upper_bound}.\")\n",
        "                continue\n",
        "\n",
        "            if guess < secret_number:\n",
        "                print(\"Too low! Try again.\")\n",
        "            elif guess > secret_number:\n",
        "                print(\"Too high! Try again.\")\n",
        "            else:\n",
        "                print(f\"Congratulations! You've guessed the number {secret_number} in {attempts} attempts.\")\n",
        "                break\n",
        "        except ValueError:\n",
        "            print(\"Invalid input! Please enter a valid integer.\")\n",
        "\n",
        "    if attempts == max_attempts:\n",
        "        print(f\"Sorry, you've used all your attempts. The number was {secret_number}.\")\n",
        "\n",
        "if __name__ == \"__main__\":\n",
        "    guess_the_number()\n"
      ],
      "metadata": {
        "id": "bZCbo3rtU-sN"
      },
      "execution_count": null,
      "outputs": []
    },
    {
      "cell_type": "code",
      "source": [
        "import random\n",
        "\n",
        "def bad_calculator():\n",
        "    # Generate two random numbers\n",
        "    num1 = random.randint(-100, -1)\n",
        "    num2 = random.randint(1, 100)\n",
        "\n",
        "    # Randomly select an operation\n",
        "    operations = ['*', '/', '**', '%', '//']\n",
        "    operation = random.choice(operations)\n",
        "\n",
        "    # Perform calculation based on selected operation\n",
        "    if operation == '+':\n",
        "        result = num1 + num2\n",
        "    elif operation == '-':\n",
        "        result = num1 - num2\n",
        "    elif operation == '*':\n",
        "        result = num1 * num2\n",
        "    elif operation == '/':\n",
        "        result = round(num1 / num2, 1)  # Round for better readability\n",
        "    elif operation == '**':\n",
        "        result = num1 ** num2  # Exponentiation\n",
        "    elif operation == '%':\n",
        "        result = num1 % num2  # Modulus\n",
        "    elif operation == '//':\n",
        "        result = num1 // num2  # Floor division\n",
        "\n",
        "    print(f\"The nums {num1}, {num2}\")\n",
        "\n",
        "    # Display the result\n",
        "    print(f\"The result of your calculation is: {result}\")\n",
        "\n",
        "    # Ask user to guess the operation\n",
        "    guess = input(\"What operation do you think was performed? (+, -, *, /, **, %, //): \")\n",
        "\n",
        "    # Check if the user's guess is correct\n",
        "    if guess == operation:\n",
        "        print(\"Correct! You do the right.\")\n",
        "    else:\n",
        "        print(f\"Wrong! The correct operation was '{operation}'.\")\n",
        "\n",
        "# Run the enhanced bad calculator\n",
        "bad_calculator()\n"
      ],
      "metadata": {
        "colab": {
          "base_uri": "https://localhost:8080/"
        },
        "id": "clpFwgHaG00h",
        "outputId": "3e82a40b-2c65-4610-f24f-bbea3cd51ab9"
      },
      "execution_count": null,
      "outputs": [
        {
          "output_type": "stream",
          "name": "stdout",
          "text": [
            "The nums -36, 6\n",
            "The result of your calculation is: 0\n",
            "What operation do you think was performed? (+, -, *, /, **, %, //): +\n",
            "Wrong! The correct operation was '%'.\n"
          ]
        }
      ]
    },
    {
      "cell_type": "code",
      "source": [
        "def draw_rectangle(width, height):\n",
        "    for _ in range(height):\n",
        "        print('*' * width)\n",
        "\n",
        "# Set the width and height of the rectangle\n",
        "width = 2\n",
        "height = 5\n",
        "\n",
        "draw_rectangle(80, height)"
      ],
      "metadata": {
        "colab": {
          "base_uri": "https://localhost:8080/"
        },
        "id": "GcwZ9FDQLp8L",
        "outputId": "9d21f383-a004-41e1-d0c6-c82944494ccc"
      },
      "execution_count": null,
      "outputs": [
        {
          "output_type": "stream",
          "name": "stdout",
          "text": [
            "********************************************************************************\n",
            "********************************************************************************\n",
            "********************************************************************************\n",
            "********************************************************************************\n",
            "********************************************************************************\n"
          ]
        }
      ]
    },
    {
      "cell_type": "code",
      "source": [
        "# Draw the rectangle\n",
        "print('*************')\n",
        "print('*' + '           ' + '*')\n",
        "print('*' + '           ' + '*')\n",
        "print('*' + '           ' + '*')\n",
        "print('*************')"
      ],
      "metadata": {
        "colab": {
          "base_uri": "https://localhost:8080/"
        },
        "id": "dyZK9_HGO5Wj",
        "outputId": "528cc64e-e832-40b8-8efd-63506946ab1c"
      },
      "execution_count": null,
      "outputs": [
        {
          "output_type": "stream",
          "name": "stdout",
          "text": [
            "*************\n",
            "*           *\n",
            "*           *\n",
            "*           *\n",
            "*************\n"
          ]
        }
      ]
    },
    {
      "cell_type": "code",
      "source": [
        "# Set the width and height of the rectangle\n",
        "width = 50\n",
        "\n",
        "# Draw the rectangle\n",
        "print('*' * width)\n",
        "print('*' + ' ' * (width-2) + '*')\n",
        "print('*' + ' ' * (width-2) + '*')\n",
        "print('*' + ' ' * (width-2) + '*')\n",
        "print('*' + ' ' * (width-2) + '*')\n",
        "print('*' + ' ' * (width-2) + '*')\n",
        "print('*' + ' ' * (width-2) + '*')\n",
        "print('*' + ' ' * (width-2) + '*')\n",
        "print('*' + ' ' * (width-2) + '*')\n",
        "print('*' + ' ' * (width-2) + '*')\n",
        "print('*' + ' ' * (width-2) + '*')\n",
        "print('*' + ' ' * (width-2) + '*')\n",
        "\n",
        "print('*' * width)"
      ],
      "metadata": {
        "colab": {
          "base_uri": "https://localhost:8080/"
        },
        "id": "mlMz3BASMnmX",
        "outputId": "120f85ac-2199-46d7-bd1b-70f3d2290189"
      },
      "execution_count": null,
      "outputs": [
        {
          "output_type": "stream",
          "name": "stdout",
          "text": [
            "**************************************************\n",
            "*                                                *\n",
            "*                                                *\n",
            "*                                                *\n",
            "*                                                *\n",
            "*                                                *\n",
            "*                                                *\n",
            "*                                                *\n",
            "*                                                *\n",
            "*                                                *\n",
            "*                                                *\n",
            "*                                                *\n",
            "**************************************************\n"
          ]
        }
      ]
    },
    {
      "cell_type": "code",
      "source": [
        "# Set the width and height of the rectangle\n",
        "width = 10\n",
        "height = 2\n",
        "\n",
        "# Draw the rectangle\n",
        "print('*' * width)\n",
        "for i in range(height-2):\n",
        "  print('*' + ' ' * (width-2) + '*')\n",
        "print('*' * width)\n"
      ],
      "metadata": {
        "colab": {
          "base_uri": "https://localhost:8080/"
        },
        "id": "zcOG93HlM7Ap",
        "outputId": "134aa28a-a1e6-4f8c-eca5-2626e3db4eda"
      },
      "execution_count": null,
      "outputs": [
        {
          "output_type": "stream",
          "name": "stdout",
          "text": [
            "**********\n",
            "**********\n"
          ]
        }
      ]
    },
    {
      "cell_type": "code",
      "source": [
        "def draw_triangle(n):\n",
        "    for i in range(1, n + 1):\n",
        "        print(' ' * (n - i) + '*' * (2 * i - 1))\n",
        "\n",
        "# Set the height of the triangle\n",
        "size = 5\n",
        "\n",
        "draw_triangle(size)"
      ],
      "metadata": {
        "colab": {
          "base_uri": "https://localhost:8080/"
        },
        "id": "y50xo0UpLhuw",
        "outputId": "0873c650-202c-496e-8a26-2753154ede1f"
      },
      "execution_count": null,
      "outputs": [
        {
          "output_type": "stream",
          "name": "stdout",
          "text": [
            "    *\n",
            "   ***\n",
            "  *****\n",
            " *******\n",
            "*********\n"
          ]
        }
      ]
    },
    {
      "cell_type": "code",
      "source": [
        "def draw_diamond(n):\n",
        "    # Upper part of the diamond\n",
        "    for i in range(n, 0, -2):\n",
        "        spaces = ' ' * ((n - i) // 2)\n",
        "        print(spaces + '*' * i)\n",
        "\n",
        "    # Lower part of the diamond\n",
        "    for i in range(3, n + 1, 2):\n",
        "        spaces = ' ' * ((n - i) // 2)\n",
        "        print(spaces + '*' * i)\n",
        "\n",
        "# Set the size of the diamond (the maximum width)\n",
        "size = 5\n",
        "\n",
        "draw_diamond(size)"
      ],
      "metadata": {
        "colab": {
          "base_uri": "https://localhost:8080/"
        },
        "id": "9B1geKLJKkNO",
        "outputId": "ea885b22-dbd4-4a69-8fb2-a076f4cc89ba"
      },
      "execution_count": null,
      "outputs": [
        {
          "output_type": "stream",
          "name": "stdout",
          "text": [
            "*****\n",
            " ***\n",
            "  *\n",
            " ***\n",
            "*****\n"
          ]
        }
      ]
    },
    {
      "cell_type": "code",
      "source": [
        "def draw_heart(n):\n",
        "    # Upper part of the heart\n",
        "    for i in range(n//2-1):\n",
        "        print(\" \"*(n//2-i-1) + \"*\"*(2*i+2) + \" \"*(n-2*i-2) + \"*\"*(2*i+2))\n",
        "\n",
        "    # Middle and lower part of the heart\n",
        "    for i in range(n, 0, -1):\n",
        "        print(\" \"*(n-i) + \"*\"*(2*i-1))\n",
        "\n",
        "# Set the size of the heart (can be odd or even)\n",
        "size = 5\n",
        "\n",
        "draw_heart(size)"
      ],
      "metadata": {
        "colab": {
          "base_uri": "https://localhost:8080/"
        },
        "id": "Bb6roLybKXPn",
        "outputId": "e528279c-76c7-4fbe-ddd4-41fc7178c20c"
      },
      "execution_count": null,
      "outputs": [
        {
          "output_type": "stream",
          "name": "stdout",
          "text": [
            " **   **\n",
            "*********\n",
            " *******\n",
            "  *****\n",
            "   ***\n",
            "    *\n"
          ]
        }
      ]
    },
    {
      "cell_type": "code",
      "source": [
        "import random\n",
        "import string\n",
        "\n",
        "def generate_password(length=12, use_uppercase=True, use_lowercase=True, use_special=True):\n",
        "    characters = \"\"\n",
        "    if use_uppercase:\n",
        "        characters += 'ABCDEFGHIJKLMNOPQRSTUVWXYZ'\n",
        "    if use_lowercase:\n",
        "        characters += 'abcdefghijklmnopqrstuvwxyz'\n",
        "    if use_special:\n",
        "        characters += '!\"#$%&\\'()*+,-./:;<=>?@[\\\\]^_`{|}~1234567890'\n",
        "\n",
        "    if not characters:\n",
        "        return \"Error: No character types selected\"\n",
        "\n",
        "    password = ''.join(random.choice(characters) for _ in range(length))\n",
        "    return password\n",
        "\n",
        "# Generate a password\n",
        "password = generate_password()\n",
        "print(\"Generated password:\", password)\n",
        "\n",
        "# You can also customize the password generation:\n",
        "# custom_password = generate_password(length=16, use_uppercase=True, use_lowercase=True, use_digits=True, use_special=False)\n",
        "# print(\"Custom password:\", custom_password)"
      ],
      "metadata": {
        "colab": {
          "base_uri": "https://localhost:8080/"
        },
        "id": "754St9mJKtb4",
        "outputId": "20bf161a-2760-4d82-c681-cc8303b377a3"
      },
      "execution_count": null,
      "outputs": [
        {
          "output_type": "stream",
          "name": "stdout",
          "text": [
            "Generated password: M`6>JH/ord[F\n"
          ]
        }
      ]
    },
    {
      "cell_type": "code",
      "source": [
        "string.ascii_uppercase"
      ],
      "metadata": {
        "colab": {
          "base_uri": "https://localhost:8080/",
          "height": 55
        },
        "id": "-iBuosB_fNW7",
        "outputId": "a4bf9217-ab3e-466d-e9d4-56a227f3fd86"
      },
      "execution_count": null,
      "outputs": [
        {
          "output_type": "execute_result",
          "data": {
            "text/plain": [
              "'ABCDEFGHIJKLMNOPQRSTUVWXYZ'"
            ],
            "application/vnd.google.colaboratory.intrinsic+json": {
              "type": "string"
            }
          },
          "metadata": {},
          "execution_count": 69
        }
      ]
    }
  ]
}